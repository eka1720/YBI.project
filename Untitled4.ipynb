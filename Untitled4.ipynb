{
  "nbformat": 4,
  "nbformat_minor": 0,
  "metadata": {
    "colab": {
      "provenance": []
    },
    "kernelspec": {
      "name": "python3",
      "display_name": "Python 3"
    },
    "language_info": {
      "name": "python"
    }
  },
  "cells": [
    {
      "cell_type": "code",
      "execution_count": null,
      "metadata": {
        "id": "LayWOOJRp23-"
      },
      "outputs": [],
      "source": [
        "# Step 1 : import library\n",
        "import pandas as pd"
      ]
    },
    {
      "cell_type": "code",
      "source": [
        "# import data\n",
        "cement = pd.read_csv('https://github.com/ybifoundation/Dataset/raw/main/Concrete%20Compressive%20Strength.csv')"
      ],
      "metadata": {
        "id": "V7GQYi7Kp-9h"
      },
      "execution_count": null,
      "outputs": []
    },
    {
      "cell_type": "code",
      "source": [
        "cement"
      ],
      "metadata": {
        "colab": {
          "base_uri": "https://localhost:8080/",
          "height": 502
        },
        "id": "b5z4BNnJqPS9",
        "outputId": "e7a7a2bd-bed1-4ecf-8a1e-3fd2d525cc6f"
      },
      "execution_count": null,
      "outputs": [
        {
          "output_type": "execute_result",
          "data": {
            "text/plain": [
              "      Cement (kg in a m^3 mixture)  Blast Furnace Slag (kg in a m^3 mixture)  \\\n",
              "0                            540.0                                       0.0   \n",
              "1                            540.0                                       0.0   \n",
              "2                            332.5                                     142.5   \n",
              "3                            332.5                                     142.5   \n",
              "4                            198.6                                     132.4   \n",
              "...                            ...                                       ...   \n",
              "1025                         276.4                                     116.0   \n",
              "1026                         322.2                                       0.0   \n",
              "1027                         148.5                                     139.4   \n",
              "1028                         159.1                                     186.7   \n",
              "1029                         260.9                                     100.5   \n",
              "\n",
              "      Fly Ash (kg in a m^3 mixture)  Water (kg in a m^3 mixture)  \\\n",
              "0                               0.0                        162.0   \n",
              "1                               0.0                        162.0   \n",
              "2                               0.0                        228.0   \n",
              "3                               0.0                        228.0   \n",
              "4                               0.0                        192.0   \n",
              "...                             ...                          ...   \n",
              "1025                           90.3                        179.6   \n",
              "1026                          115.6                        196.0   \n",
              "1027                          108.6                        192.7   \n",
              "1028                            0.0                        175.6   \n",
              "1029                           78.3                        200.6   \n",
              "\n",
              "      Superplasticizer (kg in a m^3 mixture)  \\\n",
              "0                                        2.5   \n",
              "1                                        2.5   \n",
              "2                                        0.0   \n",
              "3                                        0.0   \n",
              "4                                        0.0   \n",
              "...                                      ...   \n",
              "1025                                     8.9   \n",
              "1026                                    10.4   \n",
              "1027                                     6.1   \n",
              "1028                                    11.3   \n",
              "1029                                     8.6   \n",
              "\n",
              "      Coarse Aggregate (kg in a m^3 mixture)  \\\n",
              "0                                     1040.0   \n",
              "1                                     1055.0   \n",
              "2                                      932.0   \n",
              "3                                      932.0   \n",
              "4                                      978.4   \n",
              "...                                      ...   \n",
              "1025                                   870.1   \n",
              "1026                                   817.9   \n",
              "1027                                   892.4   \n",
              "1028                                   989.6   \n",
              "1029                                   864.5   \n",
              "\n",
              "      Fine Aggregate (kg in a m^3 mixture)  Age (day)  \\\n",
              "0                                    676.0         28   \n",
              "1                                    676.0         28   \n",
              "2                                    594.0        270   \n",
              "3                                    594.0        365   \n",
              "4                                    825.5        360   \n",
              "...                                    ...        ...   \n",
              "1025                                 768.3         28   \n",
              "1026                                 813.4         28   \n",
              "1027                                 780.0         28   \n",
              "1028                                 788.9         28   \n",
              "1029                                 761.5         28   \n",
              "\n",
              "      Concrete Compressive Strength(MPa, megapascals)   \n",
              "0                                            79.986111  \n",
              "1                                            61.887366  \n",
              "2                                            40.269535  \n",
              "3                                            41.052780  \n",
              "4                                            44.296075  \n",
              "...                                                ...  \n",
              "1025                                         44.284354  \n",
              "1026                                         31.178794  \n",
              "1027                                         23.696601  \n",
              "1028                                         32.768036  \n",
              "1029                                         32.401235  \n",
              "\n",
              "[1030 rows x 9 columns]"
            ],
            "text/html": [
              "\n",
              "  <div id=\"df-06e63d21-6c5e-4df6-b2b1-fe4bc77104a8\">\n",
              "    <div class=\"colab-df-container\">\n",
              "      <div>\n",
              "<style scoped>\n",
              "    .dataframe tbody tr th:only-of-type {\n",
              "        vertical-align: middle;\n",
              "    }\n",
              "\n",
              "    .dataframe tbody tr th {\n",
              "        vertical-align: top;\n",
              "    }\n",
              "\n",
              "    .dataframe thead th {\n",
              "        text-align: right;\n",
              "    }\n",
              "</style>\n",
              "<table border=\"1\" class=\"dataframe\">\n",
              "  <thead>\n",
              "    <tr style=\"text-align: right;\">\n",
              "      <th></th>\n",
              "      <th>Cement (kg in a m^3 mixture)</th>\n",
              "      <th>Blast Furnace Slag (kg in a m^3 mixture)</th>\n",
              "      <th>Fly Ash (kg in a m^3 mixture)</th>\n",
              "      <th>Water (kg in a m^3 mixture)</th>\n",
              "      <th>Superplasticizer (kg in a m^3 mixture)</th>\n",
              "      <th>Coarse Aggregate (kg in a m^3 mixture)</th>\n",
              "      <th>Fine Aggregate (kg in a m^3 mixture)</th>\n",
              "      <th>Age (day)</th>\n",
              "      <th>Concrete Compressive Strength(MPa, megapascals)</th>\n",
              "    </tr>\n",
              "  </thead>\n",
              "  <tbody>\n",
              "    <tr>\n",
              "      <th>0</th>\n",
              "      <td>540.0</td>\n",
              "      <td>0.0</td>\n",
              "      <td>0.0</td>\n",
              "      <td>162.0</td>\n",
              "      <td>2.5</td>\n",
              "      <td>1040.0</td>\n",
              "      <td>676.0</td>\n",
              "      <td>28</td>\n",
              "      <td>79.986111</td>\n",
              "    </tr>\n",
              "    <tr>\n",
              "      <th>1</th>\n",
              "      <td>540.0</td>\n",
              "      <td>0.0</td>\n",
              "      <td>0.0</td>\n",
              "      <td>162.0</td>\n",
              "      <td>2.5</td>\n",
              "      <td>1055.0</td>\n",
              "      <td>676.0</td>\n",
              "      <td>28</td>\n",
              "      <td>61.887366</td>\n",
              "    </tr>\n",
              "    <tr>\n",
              "      <th>2</th>\n",
              "      <td>332.5</td>\n",
              "      <td>142.5</td>\n",
              "      <td>0.0</td>\n",
              "      <td>228.0</td>\n",
              "      <td>0.0</td>\n",
              "      <td>932.0</td>\n",
              "      <td>594.0</td>\n",
              "      <td>270</td>\n",
              "      <td>40.269535</td>\n",
              "    </tr>\n",
              "    <tr>\n",
              "      <th>3</th>\n",
              "      <td>332.5</td>\n",
              "      <td>142.5</td>\n",
              "      <td>0.0</td>\n",
              "      <td>228.0</td>\n",
              "      <td>0.0</td>\n",
              "      <td>932.0</td>\n",
              "      <td>594.0</td>\n",
              "      <td>365</td>\n",
              "      <td>41.052780</td>\n",
              "    </tr>\n",
              "    <tr>\n",
              "      <th>4</th>\n",
              "      <td>198.6</td>\n",
              "      <td>132.4</td>\n",
              "      <td>0.0</td>\n",
              "      <td>192.0</td>\n",
              "      <td>0.0</td>\n",
              "      <td>978.4</td>\n",
              "      <td>825.5</td>\n",
              "      <td>360</td>\n",
              "      <td>44.296075</td>\n",
              "    </tr>\n",
              "    <tr>\n",
              "      <th>...</th>\n",
              "      <td>...</td>\n",
              "      <td>...</td>\n",
              "      <td>...</td>\n",
              "      <td>...</td>\n",
              "      <td>...</td>\n",
              "      <td>...</td>\n",
              "      <td>...</td>\n",
              "      <td>...</td>\n",
              "      <td>...</td>\n",
              "    </tr>\n",
              "    <tr>\n",
              "      <th>1025</th>\n",
              "      <td>276.4</td>\n",
              "      <td>116.0</td>\n",
              "      <td>90.3</td>\n",
              "      <td>179.6</td>\n",
              "      <td>8.9</td>\n",
              "      <td>870.1</td>\n",
              "      <td>768.3</td>\n",
              "      <td>28</td>\n",
              "      <td>44.284354</td>\n",
              "    </tr>\n",
              "    <tr>\n",
              "      <th>1026</th>\n",
              "      <td>322.2</td>\n",
              "      <td>0.0</td>\n",
              "      <td>115.6</td>\n",
              "      <td>196.0</td>\n",
              "      <td>10.4</td>\n",
              "      <td>817.9</td>\n",
              "      <td>813.4</td>\n",
              "      <td>28</td>\n",
              "      <td>31.178794</td>\n",
              "    </tr>\n",
              "    <tr>\n",
              "      <th>1027</th>\n",
              "      <td>148.5</td>\n",
              "      <td>139.4</td>\n",
              "      <td>108.6</td>\n",
              "      <td>192.7</td>\n",
              "      <td>6.1</td>\n",
              "      <td>892.4</td>\n",
              "      <td>780.0</td>\n",
              "      <td>28</td>\n",
              "      <td>23.696601</td>\n",
              "    </tr>\n",
              "    <tr>\n",
              "      <th>1028</th>\n",
              "      <td>159.1</td>\n",
              "      <td>186.7</td>\n",
              "      <td>0.0</td>\n",
              "      <td>175.6</td>\n",
              "      <td>11.3</td>\n",
              "      <td>989.6</td>\n",
              "      <td>788.9</td>\n",
              "      <td>28</td>\n",
              "      <td>32.768036</td>\n",
              "    </tr>\n",
              "    <tr>\n",
              "      <th>1029</th>\n",
              "      <td>260.9</td>\n",
              "      <td>100.5</td>\n",
              "      <td>78.3</td>\n",
              "      <td>200.6</td>\n",
              "      <td>8.6</td>\n",
              "      <td>864.5</td>\n",
              "      <td>761.5</td>\n",
              "      <td>28</td>\n",
              "      <td>32.401235</td>\n",
              "    </tr>\n",
              "  </tbody>\n",
              "</table>\n",
              "<p>1030 rows × 9 columns</p>\n",
              "</div>\n",
              "      <button class=\"colab-df-convert\" onclick=\"convertToInteractive('df-06e63d21-6c5e-4df6-b2b1-fe4bc77104a8')\"\n",
              "              title=\"Convert this dataframe to an interactive table.\"\n",
              "              style=\"display:none;\">\n",
              "        \n",
              "  <svg xmlns=\"http://www.w3.org/2000/svg\" height=\"24px\"viewBox=\"0 0 24 24\"\n",
              "       width=\"24px\">\n",
              "    <path d=\"M0 0h24v24H0V0z\" fill=\"none\"/>\n",
              "    <path d=\"M18.56 5.44l.94 2.06.94-2.06 2.06-.94-2.06-.94-.94-2.06-.94 2.06-2.06.94zm-11 1L8.5 8.5l.94-2.06 2.06-.94-2.06-.94L8.5 2.5l-.94 2.06-2.06.94zm10 10l.94 2.06.94-2.06 2.06-.94-2.06-.94-.94-2.06-.94 2.06-2.06.94z\"/><path d=\"M17.41 7.96l-1.37-1.37c-.4-.4-.92-.59-1.43-.59-.52 0-1.04.2-1.43.59L10.3 9.45l-7.72 7.72c-.78.78-.78 2.05 0 2.83L4 21.41c.39.39.9.59 1.41.59.51 0 1.02-.2 1.41-.59l7.78-7.78 2.81-2.81c.8-.78.8-2.07 0-2.86zM5.41 20L4 18.59l7.72-7.72 1.47 1.35L5.41 20z\"/>\n",
              "  </svg>\n",
              "      </button>\n",
              "      \n",
              "  <style>\n",
              "    .colab-df-container {\n",
              "      display:flex;\n",
              "      flex-wrap:wrap;\n",
              "      gap: 12px;\n",
              "    }\n",
              "\n",
              "    .colab-df-convert {\n",
              "      background-color: #E8F0FE;\n",
              "      border: none;\n",
              "      border-radius: 50%;\n",
              "      cursor: pointer;\n",
              "      display: none;\n",
              "      fill: #1967D2;\n",
              "      height: 32px;\n",
              "      padding: 0 0 0 0;\n",
              "      width: 32px;\n",
              "    }\n",
              "\n",
              "    .colab-df-convert:hover {\n",
              "      background-color: #E2EBFA;\n",
              "      box-shadow: 0px 1px 2px rgba(60, 64, 67, 0.3), 0px 1px 3px 1px rgba(60, 64, 67, 0.15);\n",
              "      fill: #174EA6;\n",
              "    }\n",
              "\n",
              "    [theme=dark] .colab-df-convert {\n",
              "      background-color: #3B4455;\n",
              "      fill: #D2E3FC;\n",
              "    }\n",
              "\n",
              "    [theme=dark] .colab-df-convert:hover {\n",
              "      background-color: #434B5C;\n",
              "      box-shadow: 0px 1px 3px 1px rgba(0, 0, 0, 0.15);\n",
              "      filter: drop-shadow(0px 1px 2px rgba(0, 0, 0, 0.3));\n",
              "      fill: #FFFFFF;\n",
              "    }\n",
              "  </style>\n",
              "\n",
              "      <script>\n",
              "        const buttonEl =\n",
              "          document.querySelector('#df-06e63d21-6c5e-4df6-b2b1-fe4bc77104a8 button.colab-df-convert');\n",
              "        buttonEl.style.display =\n",
              "          google.colab.kernel.accessAllowed ? 'block' : 'none';\n",
              "\n",
              "        async function convertToInteractive(key) {\n",
              "          const element = document.querySelector('#df-06e63d21-6c5e-4df6-b2b1-fe4bc77104a8');\n",
              "          const dataTable =\n",
              "            await google.colab.kernel.invokeFunction('convertToInteractive',\n",
              "                                                     [key], {});\n",
              "          if (!dataTable) return;\n",
              "\n",
              "          const docLinkHtml = 'Like what you see? Visit the ' +\n",
              "            '<a target=\"_blank\" href=https://colab.research.google.com/notebooks/data_table.ipynb>data table notebook</a>'\n",
              "            + ' to learn more about interactive tables.';\n",
              "          element.innerHTML = '';\n",
              "          dataTable['output_type'] = 'display_data';\n",
              "          await google.colab.output.renderOutput(dataTable, element);\n",
              "          const docLink = document.createElement('div');\n",
              "          docLink.innerHTML = docLinkHtml;\n",
              "          element.appendChild(docLink);\n",
              "        }\n",
              "      </script>\n",
              "    </div>\n",
              "  </div>\n",
              "  "
            ]
          },
          "metadata": {},
          "execution_count": 3
        }
      ]
    },
    {
      "cell_type": "code",
      "source": [
        "cement.info"
      ],
      "metadata": {
        "colab": {
          "base_uri": "https://localhost:8080/"
        },
        "id": "c85JLWPcqgCP",
        "outputId": "b7f96161-8d58-4c0a-a17e-5e35ec815c25"
      },
      "execution_count": null,
      "outputs": [
        {
          "output_type": "execute_result",
          "data": {
            "text/plain": [
              "<bound method DataFrame.info of       Cement (kg in a m^3 mixture)  Blast Furnace Slag (kg in a m^3 mixture)  \\\n",
              "0                            540.0                                       0.0   \n",
              "1                            540.0                                       0.0   \n",
              "2                            332.5                                     142.5   \n",
              "3                            332.5                                     142.5   \n",
              "4                            198.6                                     132.4   \n",
              "...                            ...                                       ...   \n",
              "1025                         276.4                                     116.0   \n",
              "1026                         322.2                                       0.0   \n",
              "1027                         148.5                                     139.4   \n",
              "1028                         159.1                                     186.7   \n",
              "1029                         260.9                                     100.5   \n",
              "\n",
              "      Fly Ash (kg in a m^3 mixture)  Water (kg in a m^3 mixture)  \\\n",
              "0                               0.0                        162.0   \n",
              "1                               0.0                        162.0   \n",
              "2                               0.0                        228.0   \n",
              "3                               0.0                        228.0   \n",
              "4                               0.0                        192.0   \n",
              "...                             ...                          ...   \n",
              "1025                           90.3                        179.6   \n",
              "1026                          115.6                        196.0   \n",
              "1027                          108.6                        192.7   \n",
              "1028                            0.0                        175.6   \n",
              "1029                           78.3                        200.6   \n",
              "\n",
              "      Superplasticizer (kg in a m^3 mixture)  \\\n",
              "0                                        2.5   \n",
              "1                                        2.5   \n",
              "2                                        0.0   \n",
              "3                                        0.0   \n",
              "4                                        0.0   \n",
              "...                                      ...   \n",
              "1025                                     8.9   \n",
              "1026                                    10.4   \n",
              "1027                                     6.1   \n",
              "1028                                    11.3   \n",
              "1029                                     8.6   \n",
              "\n",
              "      Coarse Aggregate (kg in a m^3 mixture)  \\\n",
              "0                                     1040.0   \n",
              "1                                     1055.0   \n",
              "2                                      932.0   \n",
              "3                                      932.0   \n",
              "4                                      978.4   \n",
              "...                                      ...   \n",
              "1025                                   870.1   \n",
              "1026                                   817.9   \n",
              "1027                                   892.4   \n",
              "1028                                   989.6   \n",
              "1029                                   864.5   \n",
              "\n",
              "      Fine Aggregate (kg in a m^3 mixture)  Age (day)  \\\n",
              "0                                    676.0         28   \n",
              "1                                    676.0         28   \n",
              "2                                    594.0        270   \n",
              "3                                    594.0        365   \n",
              "4                                    825.5        360   \n",
              "...                                    ...        ...   \n",
              "1025                                 768.3         28   \n",
              "1026                                 813.4         28   \n",
              "1027                                 780.0         28   \n",
              "1028                                 788.9         28   \n",
              "1029                                 761.5         28   \n",
              "\n",
              "      Concrete Compressive Strength(MPa, megapascals)   \n",
              "0                                            79.986111  \n",
              "1                                            61.887366  \n",
              "2                                            40.269535  \n",
              "3                                            41.052780  \n",
              "4                                            44.296075  \n",
              "...                                                ...  \n",
              "1025                                         44.284354  \n",
              "1026                                         31.178794  \n",
              "1027                                         23.696601  \n",
              "1028                                         32.768036  \n",
              "1029                                         32.401235  \n",
              "\n",
              "[1030 rows x 9 columns]>"
            ]
          },
          "metadata": {},
          "execution_count": 4
        }
      ]
    },
    {
      "cell_type": "code",
      "source": [
        "cement.head"
      ],
      "metadata": {
        "colab": {
          "base_uri": "https://localhost:8080/"
        },
        "id": "Sq1JEh1Fql-d",
        "outputId": "25582ae2-0e69-402f-ab4f-b213ff536065"
      },
      "execution_count": null,
      "outputs": [
        {
          "output_type": "execute_result",
          "data": {
            "text/plain": [
              "<bound method NDFrame.head of       Cement (kg in a m^3 mixture)  Blast Furnace Slag (kg in a m^3 mixture)  \\\n",
              "0                            540.0                                       0.0   \n",
              "1                            540.0                                       0.0   \n",
              "2                            332.5                                     142.5   \n",
              "3                            332.5                                     142.5   \n",
              "4                            198.6                                     132.4   \n",
              "...                            ...                                       ...   \n",
              "1025                         276.4                                     116.0   \n",
              "1026                         322.2                                       0.0   \n",
              "1027                         148.5                                     139.4   \n",
              "1028                         159.1                                     186.7   \n",
              "1029                         260.9                                     100.5   \n",
              "\n",
              "      Fly Ash (kg in a m^3 mixture)  Water (kg in a m^3 mixture)  \\\n",
              "0                               0.0                        162.0   \n",
              "1                               0.0                        162.0   \n",
              "2                               0.0                        228.0   \n",
              "3                               0.0                        228.0   \n",
              "4                               0.0                        192.0   \n",
              "...                             ...                          ...   \n",
              "1025                           90.3                        179.6   \n",
              "1026                          115.6                        196.0   \n",
              "1027                          108.6                        192.7   \n",
              "1028                            0.0                        175.6   \n",
              "1029                           78.3                        200.6   \n",
              "\n",
              "      Superplasticizer (kg in a m^3 mixture)  \\\n",
              "0                                        2.5   \n",
              "1                                        2.5   \n",
              "2                                        0.0   \n",
              "3                                        0.0   \n",
              "4                                        0.0   \n",
              "...                                      ...   \n",
              "1025                                     8.9   \n",
              "1026                                    10.4   \n",
              "1027                                     6.1   \n",
              "1028                                    11.3   \n",
              "1029                                     8.6   \n",
              "\n",
              "      Coarse Aggregate (kg in a m^3 mixture)  \\\n",
              "0                                     1040.0   \n",
              "1                                     1055.0   \n",
              "2                                      932.0   \n",
              "3                                      932.0   \n",
              "4                                      978.4   \n",
              "...                                      ...   \n",
              "1025                                   870.1   \n",
              "1026                                   817.9   \n",
              "1027                                   892.4   \n",
              "1028                                   989.6   \n",
              "1029                                   864.5   \n",
              "\n",
              "      Fine Aggregate (kg in a m^3 mixture)  Age (day)  \\\n",
              "0                                    676.0         28   \n",
              "1                                    676.0         28   \n",
              "2                                    594.0        270   \n",
              "3                                    594.0        365   \n",
              "4                                    825.5        360   \n",
              "...                                    ...        ...   \n",
              "1025                                 768.3         28   \n",
              "1026                                 813.4         28   \n",
              "1027                                 780.0         28   \n",
              "1028                                 788.9         28   \n",
              "1029                                 761.5         28   \n",
              "\n",
              "      Concrete Compressive Strength(MPa, megapascals)   \n",
              "0                                            79.986111  \n",
              "1                                            61.887366  \n",
              "2                                            40.269535  \n",
              "3                                            41.052780  \n",
              "4                                            44.296075  \n",
              "...                                                ...  \n",
              "1025                                         44.284354  \n",
              "1026                                         31.178794  \n",
              "1027                                         23.696601  \n",
              "1028                                         32.768036  \n",
              "1029                                         32.401235  \n",
              "\n",
              "[1030 rows x 9 columns]>"
            ]
          },
          "metadata": {},
          "execution_count": 5
        }
      ]
    },
    {
      "cell_type": "code",
      "source": [
        "cement.describe"
      ],
      "metadata": {
        "colab": {
          "base_uri": "https://localhost:8080/"
        },
        "id": "hRsiqUdZqten",
        "outputId": "9279af20-5c76-4db7-c218-2d30b8fe93b4"
      },
      "execution_count": null,
      "outputs": [
        {
          "output_type": "execute_result",
          "data": {
            "text/plain": [
              "<bound method NDFrame.describe of       Cement (kg in a m^3 mixture)  Blast Furnace Slag (kg in a m^3 mixture)  \\\n",
              "0                            540.0                                       0.0   \n",
              "1                            540.0                                       0.0   \n",
              "2                            332.5                                     142.5   \n",
              "3                            332.5                                     142.5   \n",
              "4                            198.6                                     132.4   \n",
              "...                            ...                                       ...   \n",
              "1025                         276.4                                     116.0   \n",
              "1026                         322.2                                       0.0   \n",
              "1027                         148.5                                     139.4   \n",
              "1028                         159.1                                     186.7   \n",
              "1029                         260.9                                     100.5   \n",
              "\n",
              "      Fly Ash (kg in a m^3 mixture)  Water (kg in a m^3 mixture)  \\\n",
              "0                               0.0                        162.0   \n",
              "1                               0.0                        162.0   \n",
              "2                               0.0                        228.0   \n",
              "3                               0.0                        228.0   \n",
              "4                               0.0                        192.0   \n",
              "...                             ...                          ...   \n",
              "1025                           90.3                        179.6   \n",
              "1026                          115.6                        196.0   \n",
              "1027                          108.6                        192.7   \n",
              "1028                            0.0                        175.6   \n",
              "1029                           78.3                        200.6   \n",
              "\n",
              "      Superplasticizer (kg in a m^3 mixture)  \\\n",
              "0                                        2.5   \n",
              "1                                        2.5   \n",
              "2                                        0.0   \n",
              "3                                        0.0   \n",
              "4                                        0.0   \n",
              "...                                      ...   \n",
              "1025                                     8.9   \n",
              "1026                                    10.4   \n",
              "1027                                     6.1   \n",
              "1028                                    11.3   \n",
              "1029                                     8.6   \n",
              "\n",
              "      Coarse Aggregate (kg in a m^3 mixture)  \\\n",
              "0                                     1040.0   \n",
              "1                                     1055.0   \n",
              "2                                      932.0   \n",
              "3                                      932.0   \n",
              "4                                      978.4   \n",
              "...                                      ...   \n",
              "1025                                   870.1   \n",
              "1026                                   817.9   \n",
              "1027                                   892.4   \n",
              "1028                                   989.6   \n",
              "1029                                   864.5   \n",
              "\n",
              "      Fine Aggregate (kg in a m^3 mixture)  Age (day)  \\\n",
              "0                                    676.0         28   \n",
              "1                                    676.0         28   \n",
              "2                                    594.0        270   \n",
              "3                                    594.0        365   \n",
              "4                                    825.5        360   \n",
              "...                                    ...        ...   \n",
              "1025                                 768.3         28   \n",
              "1026                                 813.4         28   \n",
              "1027                                 780.0         28   \n",
              "1028                                 788.9         28   \n",
              "1029                                 761.5         28   \n",
              "\n",
              "      Concrete Compressive Strength(MPa, megapascals)   \n",
              "0                                            79.986111  \n",
              "1                                            61.887366  \n",
              "2                                            40.269535  \n",
              "3                                            41.052780  \n",
              "4                                            44.296075  \n",
              "...                                                ...  \n",
              "1025                                         44.284354  \n",
              "1026                                         31.178794  \n",
              "1027                                         23.696601  \n",
              "1028                                         32.768036  \n",
              "1029                                         32.401235  \n",
              "\n",
              "[1030 rows x 9 columns]>"
            ]
          },
          "metadata": {},
          "execution_count": 6
        }
      ]
    },
    {
      "cell_type": "code",
      "source": [
        "# Step 3 : define y and X\n",
        "cement.columns"
      ],
      "metadata": {
        "colab": {
          "base_uri": "https://localhost:8080/"
        },
        "id": "eYZJUSFSq028",
        "outputId": "958db95f-5812-446a-8c64-925858491222"
      },
      "execution_count": null,
      "outputs": [
        {
          "output_type": "execute_result",
          "data": {
            "text/plain": [
              "Index(['Cement (kg in a m^3 mixture)',\n",
              "       'Blast Furnace Slag (kg in a m^3 mixture)',\n",
              "       'Fly Ash (kg in a m^3 mixture)', 'Water (kg in a m^3 mixture)',\n",
              "       'Superplasticizer (kg in a m^3 mixture)',\n",
              "       'Coarse Aggregate (kg in a m^3 mixture)',\n",
              "       'Fine Aggregate (kg in a m^3 mixture)', 'Age (day)',\n",
              "       'Concrete Compressive Strength(MPa, megapascals) '],\n",
              "      dtype='object')"
            ]
          },
          "metadata": {},
          "execution_count": 7
        }
      ]
    },
    {
      "cell_type": "code",
      "source": [
        "y = cement ['Cement (kg in a m^3 mixture)']\n",
        "X = cement [['Blast Furnace Slag (kg in a m^3 mixture)',\n",
        "       'Fly Ash (kg in a m^3 mixture)', 'Water (kg in a m^3 mixture)',\n",
        "       'Superplasticizer (kg in a m^3 mixture)',\n",
        "       'Coarse Aggregate (kg in a m^3 mixture)',\n",
        "       'Fine Aggregate (kg in a m^3 mixture)', 'Age (day)',\n",
        "       'Concrete Compressive Strength(MPa, megapascals) ']]"
      ],
      "metadata": {
        "id": "wyHxjmH_rX9H"
      },
      "execution_count": null,
      "outputs": []
    },
    {
      "cell_type": "code",
      "source": [
        "X.shape"
      ],
      "metadata": {
        "colab": {
          "base_uri": "https://localhost:8080/"
        },
        "id": "8h4lUFtsr7m0",
        "outputId": "e9a3b60a-f061-44b8-d0e4-732fe9120f46"
      },
      "execution_count": null,
      "outputs": [
        {
          "output_type": "execute_result",
          "data": {
            "text/plain": [
              "(1030, 8)"
            ]
          },
          "metadata": {},
          "execution_count": 10
        }
      ]
    },
    {
      "cell_type": "code",
      "source": [
        "y.shape"
      ],
      "metadata": {
        "colab": {
          "base_uri": "https://localhost:8080/"
        },
        "id": "hex7F3z_sAOk",
        "outputId": "7af6756c-0760-4146-8b4c-865cf82599ee"
      },
      "execution_count": null,
      "outputs": [
        {
          "output_type": "execute_result",
          "data": {
            "text/plain": [
              "(1030,)"
            ]
          },
          "metadata": {},
          "execution_count": 11
        }
      ]
    },
    {
      "cell_type": "code",
      "source": [
        "# Step 4 : train test split\n",
        "from sklearn.model_selection import train_test_split\n",
        "X_train, X_test, y_train, y_test = train_test_split(X,y, train_size=0.7, random_state=2529)"
      ],
      "metadata": {
        "id": "ogm4euRGsRuc"
      },
      "execution_count": null,
      "outputs": []
    },
    {
      "cell_type": "code",
      "source": [
        "X_train.shape, X_test.shape, y_train.shape, y_test.shape"
      ],
      "metadata": {
        "colab": {
          "base_uri": "https://localhost:8080/"
        },
        "id": "3o8fydtqsVJ0",
        "outputId": "6ffbf646-3210-4561-86f7-82f25d7f1bd8"
      },
      "execution_count": null,
      "outputs": [
        {
          "output_type": "execute_result",
          "data": {
            "text/plain": [
              "((721, 8), (309, 8), (721,), (309,))"
            ]
          },
          "metadata": {},
          "execution_count": 13
        }
      ]
    },
    {
      "cell_type": "code",
      "source": [
        "# Step 5 : select model\n",
        "from sklearn.linear_model import LinearRegression\n",
        "model = LinearRegression()"
      ],
      "metadata": {
        "id": "i8sJwP-Ss0Zv"
      },
      "execution_count": null,
      "outputs": []
    },
    {
      "cell_type": "code",
      "source": [
        "# Step 6 : train or fit model\n",
        "model.fit(X_train,y_train)"
      ],
      "metadata": {
        "colab": {
          "base_uri": "https://localhost:8080/"
        },
        "id": "FrKpCwJVs-Lq",
        "outputId": "32c225a7-9da2-438e-97b6-89cc37b034cc"
      },
      "execution_count": null,
      "outputs": [
        {
          "output_type": "execute_result",
          "data": {
            "text/plain": [
              "LinearRegression()"
            ]
          },
          "metadata": {},
          "execution_count": 15
        }
      ]
    },
    {
      "cell_type": "code",
      "source": [
        "model.intercept_"
      ],
      "metadata": {
        "colab": {
          "base_uri": "https://localhost:8080/"
        },
        "id": "u-1kY5U2tNcR",
        "outputId": "075a1bb1-bd13-4cee-958f-39dda0477286"
      },
      "execution_count": null,
      "outputs": [
        {
          "output_type": "execute_result",
          "data": {
            "text/plain": [
              "2400.8511658904345"
            ]
          },
          "metadata": {},
          "execution_count": 17
        }
      ]
    },
    {
      "cell_type": "code",
      "source": [
        "model.coef_"
      ],
      "metadata": {
        "colab": {
          "base_uri": "https://localhost:8080/"
        },
        "id": "IvsP1Nl8tStb",
        "outputId": "9c2b82c4-055b-4d27-959f-f2cca859cd7b"
      },
      "execution_count": null,
      "outputs": [
        {
          "output_type": "execute_result",
          "data": {
            "text/plain": [
              "array([-1.04125216, -1.21011724, -2.76635193, -0.80925372, -0.77881639,\n",
              "       -0.96705356, -0.21547033,  1.281977  ])"
            ]
          },
          "metadata": {},
          "execution_count": 18
        }
      ]
    },
    {
      "cell_type": "code",
      "source": [
        "# Step 7 : predict model\n",
        "y_pred=model.predict(X_test)"
      ],
      "metadata": {
        "id": "Ub-bWsNItH7T"
      },
      "execution_count": null,
      "outputs": []
    },
    {
      "cell_type": "code",
      "source": [
        "# Step 8 : model accuracy\n",
        "from sklearn.metrics import mean_absolute_error, mean_absolute_percentage_error, mean_squared_error"
      ],
      "metadata": {
        "id": "PoSTIhrRtgxL"
      },
      "execution_count": null,
      "outputs": []
    },
    {
      "cell_type": "code",
      "source": [
        "mean_absolute_error(y_test,y_pred)"
      ],
      "metadata": {
        "colab": {
          "base_uri": "https://localhost:8080/"
        },
        "id": "40rssKsWtmOY",
        "outputId": "607e5fcb-6238-44e1-89b7-51696b2f6944"
      },
      "execution_count": null,
      "outputs": [
        {
          "output_type": "execute_result",
          "data": {
            "text/plain": [
              "26.831657882882848"
            ]
          },
          "metadata": {},
          "execution_count": 20
        }
      ]
    },
    {
      "cell_type": "code",
      "source": [
        "mean_absolute_percentage_error(y_test,y_pred)"
      ],
      "metadata": {
        "colab": {
          "base_uri": "https://localhost:8080/"
        },
        "id": "RVLaFhHRtqCq",
        "outputId": "41014e9e-b5e0-46ab-9b3c-e7d9365ac563"
      },
      "execution_count": null,
      "outputs": [
        {
          "output_type": "execute_result",
          "data": {
            "text/plain": [
              "0.1074305149100127"
            ]
          },
          "metadata": {},
          "execution_count": 21
        }
      ]
    },
    {
      "cell_type": "code",
      "source": [
        "mean_squared_error(y_test,y_pred)"
      ],
      "metadata": {
        "id": "qkxWDnFmtx3d",
        "outputId": "f95c0592-95c7-4f24-d05c-ea86026f12c6",
        "colab": {
          "base_uri": "https://localhost:8080/"
        }
      },
      "execution_count": null,
      "outputs": [
        {
          "output_type": "execute_result",
          "data": {
            "text/plain": [
              "1272.8506524240659"
            ]
          },
          "metadata": {},
          "execution_count": 22
        }
      ]
    }
  ]
}